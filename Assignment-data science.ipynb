{
 "cells": [
  {
   "cell_type": "code",
   "execution_count": null,
   "id": "864af21a",
   "metadata": {},
   "outputs": [],
   "source": [
    "#Write a Python program which accepts the user's first and last name and prints them in reverse order with a space between them. \n",
    "fname,lname=input(\"Enter your first and last name with a space: \").split(\" \")\n",
    "print(lname+\" \"+fname)"
   ]
  },
  {
   "cell_type": "code",
   "execution_count": 43,
   "id": "91b58634",
   "metadata": {},
   "outputs": [
    {
     "name": "stdout",
     "output_type": "stream",
     "text": [
      "enter number3, 5, 7, 23\n",
      "['3', ' 5', ' 7', ' 23']\n",
      "('3', ' 5', ' 7', ' 23')\n"
     ]
    }
   ],
   "source": [
    "#Write a Python program which accepts a sequence of comma-separated numbers from the user and generates a list and a tuple with those numbers. \n",
    "num=(input(\"enter number\"))\n",
    "l=num.split(\",\")\n",
    "print(l)\n",
    "print(tuple(l))"
   ]
  },
  {
   "cell_type": "code",
   "execution_count": 53,
   "id": "0855f7f4",
   "metadata": {},
   "outputs": [
    {
     "name": "stdout",
     "output_type": "stream",
     "text": [
      "First color:Red,Last color:Black\n"
     ]
    }
   ],
   "source": [
    "#Write a Python program to display the first and last colours from the following list. color_list = [\"Red\",\"Green\",\"White\" ,\"Black\"] \n",
    "color_list = [\"Red\",\"Green\",\"White\" ,\"Black\"] \n",
    "print(\"First color:{},Last color:{}\".format(color_list[0],color_list[-1]))"
   ]
  },
  {
   "cell_type": "code",
   "execution_count": 61,
   "id": "dde8991d",
   "metadata": {},
   "outputs": [
    {
     "name": "stdout",
     "output_type": "stream",
     "text": [
      "89.3\n",
      "Return the absolute value of the argument.\n"
     ]
    }
   ],
   "source": [
    "#Write a Python program to print the documents (syntax, description etc.) of Python built-in function(s).\n",
    "print(abs(89.3))\n",
    "print(abs.__doc__)"
   ]
  },
  {
   "cell_type": "code",
   "execution_count": 101,
   "id": "b762769e",
   "metadata": {},
   "outputs": [
    {
     "name": "stdout",
     "output_type": "stream",
     "text": [
      "Enter month1\n",
      "Enter year2023\n",
      "    January 2023\n",
      "Mo Tu We Th Fr Sa Su\n",
      "                   1\n",
      " 2  3  4  5  6  7  8\n",
      " 9 10 11 12 13 14 15\n",
      "16 17 18 19 20 21 22\n",
      "23 24 25 26 27 28 29\n",
      "30 31\n",
      "\n"
     ]
    }
   ],
   "source": [
    "#Write a Python program to print the calendar of a given month and year. \n",
    "import calendar as c\n",
    "m=int(input(\"Enter month\"))\n",
    "y=int(input(\"Enter year\"))\n",
    "\n",
    "monthyear=c.month(y,m)\n",
    "print(monthyear)\n"
   ]
  },
  {
   "cell_type": "code",
   "execution_count": 106,
   "id": "08592555",
   "metadata": {},
   "outputs": [
    {
     "name": "stdout",
     "output_type": "stream",
     "text": [
      "9 days, 0:00:00\n"
     ]
    }
   ],
   "source": [
    "from datetime import *\n",
    "d1=date(2014, 7, 2)\n",
    "d2=date(2014, 7, 11)\n",
    "print(d2-d1)"
   ]
  },
  {
   "cell_type": "code",
   "execution_count": 108,
   "id": "bf7d4606",
   "metadata": {},
   "outputs": [
    {
     "name": "stdout",
     "output_type": "stream",
     "text": [
      "True\n",
      "False\n"
     ]
    }
   ],
   "source": [
    "# Write a Python program to check whether a specified value is contained in a group of values. Test Data : \n",
    "c= [1, 5, 8, 3] \n",
    "d= [1, 5, 8, 3] \n",
    "print(3 in c)\n",
    "print(-1 in d)"
   ]
  },
  {
   "cell_type": "code",
   "execution_count": 118,
   "id": "4e75345d",
   "metadata": {},
   "outputs": [
    {
     "name": "stdout",
     "output_type": "stream",
     "text": [
      "*\n",
      "**\n",
      "***\n",
      "****\n"
     ]
    }
   ],
   "source": [
    "# Write a Python program to create a histogram from a given list of integers\n",
    "c=[1,2,3,4]\n",
    "for i in c:\n",
    "    out=\"\"\n",
    "    while(i>0):\n",
    "        out+=\"*\"\n",
    "        i-=1\n",
    "    print(out)"
   ]
  },
  {
   "cell_type": "code",
   "execution_count": 126,
   "id": "5e968e8a",
   "metadata": {},
   "outputs": [
    {
     "name": "stdout",
     "output_type": "stream",
     "text": [
      "12345\n"
     ]
    }
   ],
   "source": [
    "#Write a Python program to concatenate all elements in a list into a string and return it.\n",
    "l=[1,2,3,4,5]\n",
    "s=\"\"\n",
    "for i in l:\n",
    "    s+=str(i)\n",
    "print(s)"
   ]
  },
  {
   "cell_type": "code",
   "execution_count": 132,
   "id": "06335020",
   "metadata": {},
   "outputs": [
    {
     "name": "stdout",
     "output_type": "stream",
     "text": [
      "{'Black', 'White'}\n"
     ]
    }
   ],
   "source": [
    "#Write a Python program to print out a set containing all the colors from color_list_1 which are not present in color_list_2. \n",
    "color_list_1 = set([\"White\", \"Black\", \"Red\"]) \n",
    "color_list_2 = set([\"Red\", \"Green\"])\n",
    "print(color_list_1-color_list_2)"
   ]
  },
  {
   "cell_type": "code",
   "execution_count": 137,
   "id": "e59bb85f",
   "metadata": {},
   "outputs": [
    {
     "name": "stdout",
     "output_type": "stream",
     "text": [
      "1\n"
     ]
    }
   ],
   "source": [
    "#Write a python program to call an external command in Python. \n",
    "import os\n",
    "print(os.system('ls -l'))"
   ]
  },
  {
   "cell_type": "code",
   "execution_count": 140,
   "id": "ec911ef2",
   "metadata": {},
   "outputs": [
    {
     "data": {
      "text/plain": [
       "[1, 2, 4]"
      ]
     },
     "execution_count": 140,
     "metadata": {},
     "output_type": "execute_result"
    }
   ],
   "source": [
    "#Write a Python program to sort three integers without using conditional statements and loops. \n",
    "a = [2,1,4]\n",
    "a.sort()\n",
    "a"
   ]
  },
  {
   "cell_type": "code",
   "execution_count": 155,
   "id": "b87e0a98",
   "metadata": {},
   "outputs": [
    {
     "name": "stdout",
     "output_type": "stream",
     "text": [
      "3\n",
      "4\n",
      "4\n",
      "3\n",
      "5\n",
      "[3, 4, 4, 3, 5]\n",
      "3\n"
     ]
    }
   ],
   "source": [
    "#Write a Python program to create an array of 5 integers and display the array items. Access individual element through indexes.\n",
    "arr=[]\n",
    "for i in range(5):\n",
    "    arr.append(int(input()))\n",
    "print(arr)\n",
    "print(arr[0])"
   ]
  },
  {
   "cell_type": "code",
   "execution_count": 169,
   "id": "b62cf351",
   "metadata": {},
   "outputs": [
    {
     "name": "stdout",
     "output_type": "stream",
     "text": [
      "[5, 3, 4, 3, 5]\n",
      "[5, 3, 4, 3, 5]\n"
     ]
    }
   ],
   "source": [
    "#Write a Python program to reverse the order of the items in the array.\n",
    "print(arr[::-1])\n",
    "start=0\n",
    "end= len(arr)-1\n",
    "while(start<end):\n",
    "    arr[start]=arr[end]\n",
    "    start+=1\n",
    "    end-=1\n",
    "print(arr)"
   ]
  },
  {
   "cell_type": "code",
   "execution_count": 174,
   "id": "39196152",
   "metadata": {},
   "outputs": [
    {
     "data": {
      "text/plain": [
       "2"
      ]
     },
     "execution_count": 174,
     "metadata": {},
     "output_type": "execute_result"
    }
   ],
   "source": [
    "#Write a Python program to get the number of occurrences of a specified element in an array. \n",
    "count=c=0\n",
    "ele=3\n",
    "for i in arr:\n",
    "    if ele==i:\n",
    "        count+=1\n",
    "count"
   ]
  },
  {
   "cell_type": "code",
   "execution_count": 182,
   "id": "cfabcfa4",
   "metadata": {},
   "outputs": [
    {
     "data": {
      "text/plain": [
       "[3, 4, 3, 5]"
      ]
     },
     "execution_count": 182,
     "metadata": {},
     "output_type": "execute_result"
    }
   ],
   "source": [
    "# Write a Python program to remove the first occurrence of a specified element from an array. \n",
    "arr.pop(0)\n",
    "arr"
   ]
  },
  {
   "cell_type": "code",
   "execution_count": null,
   "id": "07b152bc",
   "metadata": {},
   "outputs": [],
   "source": []
  }
 ],
 "metadata": {
  "kernelspec": {
   "display_name": "Python 3 (ipykernel)",
   "language": "python",
   "name": "python3"
  },
  "language_info": {
   "codemirror_mode": {
    "name": "ipython",
    "version": 3
   },
   "file_extension": ".py",
   "mimetype": "text/x-python",
   "name": "python",
   "nbconvert_exporter": "python",
   "pygments_lexer": "ipython3",
   "version": "3.10.2"
  }
 },
 "nbformat": 4,
 "nbformat_minor": 5
}
